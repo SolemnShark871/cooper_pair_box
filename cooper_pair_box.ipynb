{
 "cells": [
  {
   "cell_type": "markdown",
   "metadata": {},
   "source": [
    "# Cooper Pair Box \n",
    "\n",
    "This work was originally completed by @omareq and is a hamiltonian simulation. I haven't read enough of his work to fully understand it."
   ]
  },
  {
   "cell_type": "code",
   "execution_count": 34,
   "metadata": {},
   "outputs": [],
   "source": [
    "import os\n",
    "WINDOWS = True\n",
    "\n",
    "try:\n",
    "    directory = os.environ['WINDIR']\n",
    "except:\n",
    "    WINDOWS = False\n",
    "\n",
    "%matplotlib inline\n",
    "from ipywidgets import interactive\n",
    "import matplotlib.pyplot as plt\n",
    "\n",
    "import matplotlib.patches as mpatches\n",
    "import numpy as np"
   ]
  },
  {
   "cell_type": "code",
   "execution_count": 35,
   "metadata": {},
   "outputs": [],
   "source": [
    "def hamiltonian(charging_energy, tunnelling_energy, n=0, states=5):\n",
    "    \"\"\"Function to calculate the Hamiltonian matrix for a cooper pair box with\n",
    "    a given charging energy and tunneling energy.\n",
    "\n",
    "    Args:\n",
    "        charging_energy (float): The energy required to either subtract or add\n",
    "        a cooper pair to the system\n",
    "\n",
    "        tunnelling_energy (float): The energy required for a cooper pair to\n",
    "        transition from one energy level to another.\n",
    "\n",
    "        n (int): The gate induced charge for the cooper pair box\n",
    "\n",
    "        states (int): The number of states the cooper pair box can take\n",
    "\n",
    "    Returns:\n",
    "        A square numpy.matrix containing the Hamiltonian.\n",
    "    \"\"\"\n",
    "    ec = charging_energy\n",
    "    ej = tunnelling_energy\n",
    "    matrix = []\n",
    "\n",
    "    for y in range(states):\n",
    "        row = []\n",
    "        for x in range(states):\n",
    "            if(x == y):\n",
    "                row.append(ec * (states - x - n)**2)\n",
    "            elif(x == (y + 1) or y == (x + 1)):\n",
    "                row.append(-.5 * ej)\n",
    "            else:\n",
    "                row.append(0)\n",
    "        matrix.append(row)\n",
    "\n",
    "    return np.matrix(matrix)"
   ]
  },
  {
   "cell_type": "code",
   "execution_count": 36,
   "metadata": {},
   "outputs": [],
   "source": [
    "def plot_hamiltonian(charging_energy, tunnelling_energy, n=0, states=5):\n",
    "    \"\"\"Function to plot the Hamiltonian matrix for a cooper pair box with\n",
    "    a given charging energy and tunneling energy.\n",
    "\n",
    "    Args:\n",
    "        charging_energy (float): The energy required to either subtract or add\n",
    "        a cooper pair to the system\n",
    "\n",
    "        tunnelling_energy (float): The energy required for a cooper pair to\n",
    "        transition from one energy level to another.\n",
    "\n",
    "        n (int): The gate induced charge for the cooper pair box\n",
    "\n",
    "        states (int): The number of states the cooper pair box can take\n",
    "    \"\"\"\n",
    "    c_patch = [\"orange\", \"purple\", \"blue\", \"green\", \"red\"]\n",
    "    r_patch = mpatches.Patch(color=c_patch[0], label='|0>')\n",
    "    g_patch = mpatches.Patch(color=c_patch[1], label='|1>')\n",
    "    b_patch = mpatches.Patch(color=c_patch[2], label='|2>')\n",
    "    p_patch = mpatches.Patch(color=c_patch[3], label='|3>')\n",
    "    o_patch = mpatches.Patch(color=c_patch[4], label='|4>')\n",
    "    patches = [o_patch, p_patch, b_patch, g_patch, r_patch]\n",
    "\n",
    "    num_eigen_vals = 5\n",
    "    xx = np.linspace(0, num_eigen_vals, 10 * num_eigen_vals + 1)\n",
    "    state = [charging_energy, tunnelling_energy]\n",
    "\n",
    "    values = []\n",
    "    for n in xx:\n",
    "        h = hamiltonian(charging_energy, tunnelling_energy, n, num_eigen_vals)\n",
    "        eig = np.linalg.eig(h)\n",
    "        eigen_values = np.sort(eig[0])\n",
    "        values.append(eigen_values)\n",
    "\n",
    "    plot_vals = []\n",
    "    for i in range(num_eigen_vals):\n",
    "        current = []\n",
    "        for n in range(len(values)):\n",
    "            current.append(values[n][i])\n",
    "        plot_vals.append(current)\n",
    "\n",
    "    for i in range(num_eigen_vals):\n",
    "        plt.ylim(-10, 100)\n",
    "        if(i < len(c_patch)):\n",
    "            plt.plot(xx, plot_vals[i], color=c_patch[i])\n",
    "        else:\n",
    "            plt.plot(xx, plot_vals[i])\n",
    "\n",
    "    plot_title = \"Eigen Values Ec:\" + str(charging_energy) + \" Ej:\" + str(tunnelling_energy)\n",
    "    plot_file = \"eigen_values_ec_\" + str(charging_energy) + \"_ej_\" + str(tunnelling_energy)\n",
    "    plot_file += \".png\"\n",
    "\n",
    "    plt.title(plot_title)\n",
    "    plt.ylabel(\"Eigen Values\")\n",
    "    plt.xlabel(\"Gate Induced Charge\")\n",
    "    plt.legend(handles=patches, bbox_to_anchor=(1.05, 1),\n",
    "               loc=2, borderaxespad=0.)  \n",
    "\n",
    "    xx = np.linspace(0, num_eigen_vals, 20 * num_eigen_vals + 1)\n",
    "    return"
   ]
  },
  {
   "cell_type": "code",
   "execution_count": 40,
   "metadata": {},
   "outputs": [
    {
     "data": {
      "application/vnd.jupyter.widget-view+json": {
       "model_id": "6328d1ac1ac840029febc0303f7d5d3b",
       "version_major": 2,
       "version_minor": 0
      },
      "text/plain": [
       "interactive(children=(IntSlider(value=125, description='charging_energy', max=250, step=5), IntSlider(value=25…"
      ]
     },
     "metadata": {},
     "output_type": "display_data"
    }
   ],
   "source": [
    "interactive_plot = interactive(plot_hamiltonian, charging_energy=(0, 250, 5), tunnelling_energy=(0, 50, 1), n=0, states=5)\n",
    "output = interactive_plot.children[-1]\n",
    "output.layout.height = '350px'\n",
    "interactive_plot"
   ]
  },
  {
   "cell_type": "code",
   "execution_count": null,
   "metadata": {},
   "outputs": [],
   "source": []
  }
 ],
 "metadata": {
  "interpreter": {
   "hash": "b3ba2566441a7c06988d0923437866b63cedc61552a5af99d1f4fb67d367b25f"
  },
  "kernelspec": {
   "display_name": "Python 3",
   "language": "python",
   "name": "python3"
  },
  "language_info": {
   "codemirror_mode": {
    "name": "ipython",
    "version": 3
   },
   "file_extension": ".py",
   "mimetype": "text/x-python",
   "name": "python",
   "nbconvert_exporter": "python",
   "pygments_lexer": "ipython3",
   "version": "3.7.4"
  }
 },
 "nbformat": 4,
 "nbformat_minor": 2
}
